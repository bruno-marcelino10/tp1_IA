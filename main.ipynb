{
 "cells": [
  {
   "attachments": {},
   "cell_type": "markdown",
   "metadata": {},
   "source": [
    "# TP1"
   ]
  },
  {
   "cell_type": "code",
   "execution_count": 7,
   "metadata": {},
   "outputs": [
    {
     "data": {
      "text/plain": [
       "['--stdin=9003',\n",
       " '--control=9001',\n",
       " '--hb=9000',\n",
       " '--Session.signature_scheme=\"hmac-sha256\"',\n",
       " '--Session.key=b\"d8867a61-34eb-4025-bb97-2b6aa49ca63f\"',\n",
       " '--shell=9002',\n",
       " '--transport=\"tcp\"',\n",
       " '--iopub=9004',\n",
       " '--f=\"c:\\\\Users\\\\Bruno Marcelino\\\\AppData\\\\Roaming\\\\jupyter\\\\runtime\\\\kernel-v2-14476WHPTX8tQUYU3.json\"']"
      ]
     },
     "execution_count": 7,
     "metadata": {},
     "output_type": "execute_result"
    }
   ],
   "source": [
    "import sys\n",
    "\n",
    "def entrada(valor: str):\n",
    "    valores = []\n",
    "    for i in sys.argv:\n",
    "        valores.append(i)\n",
    "    valores.pop(0)\n",
    "    valores.pop(0)\n",
    "    return valores\n",
    "\n",
    "entrada(\"TP1 2 3 1 4\")"
   ]
  },
  {
   "cell_type": "code",
   "execution_count": null,
   "metadata": {},
   "outputs": [],
   "source": [
    "class Node:\n",
    "\n",
    "    def __init__(self, valor):\n",
    "        self.valor = valor\n",
    "        self.esq = None\n",
    "        self.dir = None\n",
    "\n",
    "class Arvore:\n",
    "    def __init__(self):\n",
    "        self.raiz = None\n",
    "\n",
    "    def insert(self, valor):\n",
    "        ponteiro = self.raiz\n",
    "\n",
    "        while pfdonteiro != None:\n",
    "            ponteiro = self.raiz.dir\n",
    "            \n",
    "        ponteiro = Node(valor)"
   ]
  },
  {
   "cell_type": "code",
   "execution_count": null,
   "metadata": {},
   "outputs": [],
   "source": []
  },
  {
   "attachments": {},
   "cell_type": "markdown",
   "metadata": {},
   "source": [
    "## Busca em Largura"
   ]
  },
  {
   "cell_type": "code",
   "execution_count": 11,
   "metadata": {},
   "outputs": [],
   "source": [
    "def action(node: list):\n",
    "    \n",
    "    lista = []\n",
    "    for i in range(len(node)):\n",
    "        for j in range(len(node)):\n",
    "            if node[i] > node[j]:\n",
    "                res = node.copy()\n",
    "                tmp = res[i]\n",
    "                res[i] = res[j]\n",
    "                res[j] = tmp\n",
    "                lista.append(res)\n",
    "\n",
    "    return lista"
   ]
  },
  {
   "cell_type": "code",
   "execution_count": 14,
   "metadata": {},
   "outputs": [
    {
     "data": {
      "text/plain": [
       "[[1, 2, 3, 4],\n",
       " [3, 1, 2, 4],\n",
       " [2, 3, 1, 4],\n",
       " [4, 1, 3, 2],\n",
       " [2, 4, 3, 1],\n",
       " [2, 1, 4, 3]]"
      ]
     },
     "execution_count": 14,
     "metadata": {},
     "output_type": "execute_result"
    }
   ],
   "source": [
    "action([2,1,3,4])"
   ]
  },
  {
   "cell_type": "code",
   "execution_count": 17,
   "metadata": {},
   "outputs": [],
   "source": [
    "def bfs(init_node: list):\n",
    "\n",
    "    frontier = None\n",
    "    explored = []\n",
    "    solution = init_node.sort()\n",
    "\n",
    "    while True:\n",
    "\n",
    "        # Primeiro caso\n",
    "        if frontier == None:\n",
    "            frontier = action(init_node)\n",
    "            explored = [init_node]\n",
    "            print(init_node)\n",
    "        else:\n",
    "            # Caso onde não há solução\n",
    "            if frontier == []:\n",
    "                return \"Falha\"\n",
    "            else:\n",
    "                explored_node = frontier[0]\n",
    "                if explored_node == solution:\n",
    "                    return solution\n",
    "                # Caso onde nó já foi explorado\n",
    "                if explored_node in explored:\n",
    "                    frontier.remove(explored_node)\n",
    "                # Caso onde nó ainda não foi explorado\n",
    "                else:\n",
    "                    print(explored_node)\n",
    "                    frontier = frontier + action(explored_node)\n",
    "                    explored.append(explored_node)\n",
    "                    frontier.remove(explored_node)"
   ]
  },
  {
   "cell_type": "code",
   "execution_count": 18,
   "metadata": {},
   "outputs": [
    {
     "name": "stdout",
     "output_type": "stream",
     "text": [
      "[1, 2, 3, 4]\n",
      "[2, 1, 3, 4]\n",
      "[3, 2, 1, 4]\n",
      "[1, 3, 2, 4]\n",
      "[4, 2, 3, 1]\n",
      "[1, 4, 3, 2]\n",
      "[1, 2, 4, 3]\n",
      "[3, 1, 2, 4]\n",
      "[2, 3, 1, 4]\n",
      "[4, 1, 3, 2]\n",
      "[2, 4, 3, 1]\n",
      "[2, 1, 4, 3]\n",
      "[4, 2, 1, 3]\n",
      "[3, 4, 1, 2]\n",
      "[3, 2, 4, 1]\n",
      "[4, 3, 2, 1]\n",
      "[1, 4, 2, 3]\n",
      "[1, 3, 4, 2]\n",
      "[4, 1, 2, 3]\n",
      "[3, 4, 2, 1]\n",
      "[3, 1, 4, 2]\n",
      "[4, 3, 1, 2]\n",
      "[2, 4, 1, 3]\n",
      "[2, 3, 4, 1]\n"
     ]
    },
    {
     "data": {
      "text/plain": [
       "'Falha'"
      ]
     },
     "execution_count": 18,
     "metadata": {},
     "output_type": "execute_result"
    }
   ],
   "source": [
    "bfs([2,3,4,1])"
   ]
  },
  {
   "cell_type": "code",
   "execution_count": null,
   "metadata": {},
   "outputs": [],
   "source": []
  }
 ],
 "metadata": {
  "kernelspec": {
   "display_name": "Python 3",
   "language": "python",
   "name": "python3"
  },
  "language_info": {
   "codemirror_mode": {
    "name": "ipython",
    "version": 3
   },
   "file_extension": ".py",
   "mimetype": "text/x-python",
   "name": "python",
   "nbconvert_exporter": "python",
   "pygments_lexer": "ipython3",
   "version": "3.8.5"
  },
  "orig_nbformat": 4
 },
 "nbformat": 4,
 "nbformat_minor": 2
}
